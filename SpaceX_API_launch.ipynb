{
 "cells": [
  {
   "cell_type": "markdown",
   "id": "a7693aa6",
   "metadata": {},
   "source": [
    "### Importing libraries"
   ]
  },
  {
   "cell_type": "code",
   "execution_count": 2,
   "id": "47785c05",
   "metadata": {},
   "outputs": [],
   "source": [
    "import requests\n",
    "import pandas as pd"
   ]
  },
  {
   "cell_type": "markdown",
   "id": "aa81e496",
   "metadata": {},
   "source": [
    "### Fetch data"
   ]
  },
  {
   "cell_type": "code",
   "execution_count": 2,
   "id": "8646cf33",
   "metadata": {},
   "outputs": [
    {
     "name": "stdout",
     "output_type": "stream",
     "text": [
      "Total launches: 205\n",
      "dict_keys(['fairings', 'links', 'static_fire_date_utc', 'static_fire_date_unix', 'net', 'window', 'rocket', 'success', 'failures', 'details', 'crew', 'ships', 'capsules', 'payloads', 'launchpad', 'flight_number', 'name', 'date_utc', 'date_unix', 'date_local', 'date_precision', 'upcoming', 'cores', 'auto_update', 'tbd', 'launch_library_id', 'id'])\n"
     ]
    }
   ],
   "source": [
    "url = \"https://api.spacexdata.com/v4/launches\"\n",
    "res = requests.get(url, timeout=10)\n",
    "res.raise_for_status()\n",
    "data = res.json()   # list of launches\n",
    "\n",
    "print(\"Total launches:\", len(data))\n",
    "print(data[0].keys())  # what fields are available"
   ]
  },
  {
   "cell_type": "markdown",
   "id": "2c0a7654",
   "metadata": {},
   "source": [
    "### Normalize JSON → Table"
   ]
  },
  {
   "cell_type": "code",
   "execution_count": 3,
   "id": "2c99ed16",
   "metadata": {},
   "outputs": [
    {
     "name": "stdout",
     "output_type": "stream",
     "text": [
      "          name                  date_utc success                    rocket\n",
      "0    FalconSat 2006-03-24 22:30:00+00:00   False  5e9d0d95eda69955f709d1eb\n",
      "1      DemoSat 2007-03-21 01:10:00+00:00   False  5e9d0d95eda69955f709d1eb\n",
      "2  Trailblazer 2008-08-03 03:34:00+00:00   False  5e9d0d95eda69955f709d1eb\n",
      "3       RatSat 2008-09-28 23:15:00+00:00    True  5e9d0d95eda69955f709d1eb\n",
      "4     RazakSat 2009-07-13 03:35:00+00:00    True  5e9d0d95eda69955f709d1eb\n"
     ]
    }
   ],
   "source": [
    "df = pd.json_normalize(data)\n",
    "cols = [\"name\", \"date_utc\", \"success\", \"rocket\"]\n",
    "df = df[cols]\n",
    "\n",
    "df[\"date_utc\"] = pd.to_datetime(df[\"date_utc\"], errors=\"coerce\")\n",
    "\n",
    "print(df.head())\n",
    "df.to_csv(\"launches.csv\", index=False)\n"
   ]
  },
  {
   "cell_type": "markdown",
   "id": "5b8d51b4",
   "metadata": {},
   "source": [
    "## Launches Dataset Cleaning"
   ]
  },
  {
   "cell_type": "code",
   "execution_count": null,
   "id": "b5f6d89a",
   "metadata": {},
   "outputs": [],
   "source": [
    "df = pd.read_csv('launches.csv')"
   ]
  },
  {
   "cell_type": "code",
   "execution_count": 8,
   "id": "520b7045",
   "metadata": {},
   "outputs": [
    {
     "data": {
      "text/html": [
       "<div>\n",
       "<style scoped>\n",
       "    .dataframe tbody tr th:only-of-type {\n",
       "        vertical-align: middle;\n",
       "    }\n",
       "\n",
       "    .dataframe tbody tr th {\n",
       "        vertical-align: top;\n",
       "    }\n",
       "\n",
       "    .dataframe thead th {\n",
       "        text-align: right;\n",
       "    }\n",
       "</style>\n",
       "<table border=\"1\" class=\"dataframe\">\n",
       "  <thead>\n",
       "    <tr style=\"text-align: right;\">\n",
       "      <th></th>\n",
       "      <th>name</th>\n",
       "      <th>date_utc</th>\n",
       "      <th>success</th>\n",
       "      <th>rocket</th>\n",
       "    </tr>\n",
       "  </thead>\n",
       "  <tbody>\n",
       "    <tr>\n",
       "      <th>0</th>\n",
       "      <td>FalconSat</td>\n",
       "      <td>2006-03-24 22:30:00+00:00</td>\n",
       "      <td>False</td>\n",
       "      <td>5e9d0d95eda69955f709d1eb</td>\n",
       "    </tr>\n",
       "    <tr>\n",
       "      <th>1</th>\n",
       "      <td>DemoSat</td>\n",
       "      <td>2007-03-21 01:10:00+00:00</td>\n",
       "      <td>False</td>\n",
       "      <td>5e9d0d95eda69955f709d1eb</td>\n",
       "    </tr>\n",
       "    <tr>\n",
       "      <th>2</th>\n",
       "      <td>Trailblazer</td>\n",
       "      <td>2008-08-03 03:34:00+00:00</td>\n",
       "      <td>False</td>\n",
       "      <td>5e9d0d95eda69955f709d1eb</td>\n",
       "    </tr>\n",
       "    <tr>\n",
       "      <th>3</th>\n",
       "      <td>RatSat</td>\n",
       "      <td>2008-09-28 23:15:00+00:00</td>\n",
       "      <td>True</td>\n",
       "      <td>5e9d0d95eda69955f709d1eb</td>\n",
       "    </tr>\n",
       "    <tr>\n",
       "      <th>4</th>\n",
       "      <td>RazakSat</td>\n",
       "      <td>2009-07-13 03:35:00+00:00</td>\n",
       "      <td>True</td>\n",
       "      <td>5e9d0d95eda69955f709d1eb</td>\n",
       "    </tr>\n",
       "  </tbody>\n",
       "</table>\n",
       "</div>"
      ],
      "text/plain": [
       "          name                   date_utc success                    rocket\n",
       "0    FalconSat  2006-03-24 22:30:00+00:00   False  5e9d0d95eda69955f709d1eb\n",
       "1      DemoSat  2007-03-21 01:10:00+00:00   False  5e9d0d95eda69955f709d1eb\n",
       "2  Trailblazer  2008-08-03 03:34:00+00:00   False  5e9d0d95eda69955f709d1eb\n",
       "3       RatSat  2008-09-28 23:15:00+00:00    True  5e9d0d95eda69955f709d1eb\n",
       "4     RazakSat  2009-07-13 03:35:00+00:00    True  5e9d0d95eda69955f709d1eb"
      ]
     },
     "execution_count": 8,
     "metadata": {},
     "output_type": "execute_result"
    }
   ],
   "source": [
    "df.head()"
   ]
  },
  {
   "cell_type": "code",
   "execution_count": 17,
   "id": "940f14b7",
   "metadata": {},
   "outputs": [
    {
     "data": {
      "text/html": [
       "<div>\n",
       "<style scoped>\n",
       "    .dataframe tbody tr th:only-of-type {\n",
       "        vertical-align: middle;\n",
       "    }\n",
       "\n",
       "    .dataframe tbody tr th {\n",
       "        vertical-align: top;\n",
       "    }\n",
       "\n",
       "    .dataframe thead th {\n",
       "        text-align: right;\n",
       "    }\n",
       "</style>\n",
       "<table border=\"1\" class=\"dataframe\">\n",
       "  <thead>\n",
       "    <tr style=\"text-align: right;\">\n",
       "      <th></th>\n",
       "      <th>name</th>\n",
       "      <th>date_utc</th>\n",
       "      <th>success</th>\n",
       "      <th>rocket</th>\n",
       "    </tr>\n",
       "  </thead>\n",
       "  <tbody>\n",
       "    <tr>\n",
       "      <th>0</th>\n",
       "      <td>FalconSat</td>\n",
       "      <td>2006-03-24 22:30:00+00:00</td>\n",
       "      <td>False</td>\n",
       "      <td>5e9d0d95eda69955f709d1eb</td>\n",
       "    </tr>\n",
       "    <tr>\n",
       "      <th>1</th>\n",
       "      <td>DemoSat</td>\n",
       "      <td>2007-03-21 01:10:00+00:00</td>\n",
       "      <td>False</td>\n",
       "      <td>5e9d0d95eda69955f709d1eb</td>\n",
       "    </tr>\n",
       "    <tr>\n",
       "      <th>2</th>\n",
       "      <td>Trailblazer</td>\n",
       "      <td>2008-08-03 03:34:00+00:00</td>\n",
       "      <td>False</td>\n",
       "      <td>5e9d0d95eda69955f709d1eb</td>\n",
       "    </tr>\n",
       "    <tr>\n",
       "      <th>3</th>\n",
       "      <td>RatSat</td>\n",
       "      <td>2008-09-28 23:15:00+00:00</td>\n",
       "      <td>True</td>\n",
       "      <td>5e9d0d95eda69955f709d1eb</td>\n",
       "    </tr>\n",
       "    <tr>\n",
       "      <th>4</th>\n",
       "      <td>RazakSat</td>\n",
       "      <td>2009-07-13 03:35:00+00:00</td>\n",
       "      <td>True</td>\n",
       "      <td>5e9d0d95eda69955f709d1eb</td>\n",
       "    </tr>\n",
       "    <tr>\n",
       "      <th>...</th>\n",
       "      <td>...</td>\n",
       "      <td>...</td>\n",
       "      <td>...</td>\n",
       "      <td>...</td>\n",
       "    </tr>\n",
       "    <tr>\n",
       "      <th>200</th>\n",
       "      <td>Transporter-6</td>\n",
       "      <td>2022-12-01 00:00:00+00:00</td>\n",
       "      <td>Unknown</td>\n",
       "      <td>5e9d0d95eda69973a809d1ec</td>\n",
       "    </tr>\n",
       "    <tr>\n",
       "      <th>201</th>\n",
       "      <td>TTL-1</td>\n",
       "      <td>2022-12-01 00:00:00+00:00</td>\n",
       "      <td>Unknown</td>\n",
       "      <td>5e9d0d95eda69973a809d1ec</td>\n",
       "    </tr>\n",
       "    <tr>\n",
       "      <th>202</th>\n",
       "      <td>WorldView Legion 1 &amp; 2</td>\n",
       "      <td>2022-12-01 00:00:00+00:00</td>\n",
       "      <td>Unknown</td>\n",
       "      <td>5e9d0d95eda69973a809d1ec</td>\n",
       "    </tr>\n",
       "    <tr>\n",
       "      <th>203</th>\n",
       "      <td>Viasat-3 &amp; Arcturus</td>\n",
       "      <td>2022-12-01 00:00:00+00:00</td>\n",
       "      <td>Unknown</td>\n",
       "      <td>5e9d0d95eda69974db09d1ed</td>\n",
       "    </tr>\n",
       "    <tr>\n",
       "      <th>204</th>\n",
       "      <td>O3b mPower 3.4</td>\n",
       "      <td>2022-12-01 00:00:00+00:00</td>\n",
       "      <td>Unknown</td>\n",
       "      <td>5e9d0d95eda69973a809d1ec</td>\n",
       "    </tr>\n",
       "  </tbody>\n",
       "</table>\n",
       "<p>205 rows × 4 columns</p>\n",
       "</div>"
      ],
      "text/plain": [
       "                       name                  date_utc  success  \\\n",
       "0                 FalconSat 2006-03-24 22:30:00+00:00    False   \n",
       "1                   DemoSat 2007-03-21 01:10:00+00:00    False   \n",
       "2               Trailblazer 2008-08-03 03:34:00+00:00    False   \n",
       "3                    RatSat 2008-09-28 23:15:00+00:00     True   \n",
       "4                  RazakSat 2009-07-13 03:35:00+00:00     True   \n",
       "..                      ...                       ...      ...   \n",
       "200           Transporter-6 2022-12-01 00:00:00+00:00  Unknown   \n",
       "201                   TTL-1 2022-12-01 00:00:00+00:00  Unknown   \n",
       "202  WorldView Legion 1 & 2 2022-12-01 00:00:00+00:00  Unknown   \n",
       "203     Viasat-3 & Arcturus 2022-12-01 00:00:00+00:00  Unknown   \n",
       "204          O3b mPower 3.4 2022-12-01 00:00:00+00:00  Unknown   \n",
       "\n",
       "                       rocket  \n",
       "0    5e9d0d95eda69955f709d1eb  \n",
       "1    5e9d0d95eda69955f709d1eb  \n",
       "2    5e9d0d95eda69955f709d1eb  \n",
       "3    5e9d0d95eda69955f709d1eb  \n",
       "4    5e9d0d95eda69955f709d1eb  \n",
       "..                        ...  \n",
       "200  5e9d0d95eda69973a809d1ec  \n",
       "201  5e9d0d95eda69973a809d1ec  \n",
       "202  5e9d0d95eda69973a809d1ec  \n",
       "203  5e9d0d95eda69974db09d1ed  \n",
       "204  5e9d0d95eda69973a809d1ec  \n",
       "\n",
       "[205 rows x 4 columns]"
      ]
     },
     "execution_count": 17,
     "metadata": {},
     "output_type": "execute_result"
    }
   ],
   "source": [
    "# Handle nulls in success column\n",
    "df['success'] = df['success'].fillna('Unknown')\n",
    "df"
   ]
  },
  {
   "cell_type": "code",
   "execution_count": 20,
   "id": "34002780",
   "metadata": {},
   "outputs": [
    {
     "data": {
      "text/plain": [
       "0            0\n",
       "1            0\n",
       "2            0\n",
       "3            1\n",
       "4            1\n",
       "        ...   \n",
       "200    Unknown\n",
       "201    Unknown\n",
       "202    Unknown\n",
       "203    Unknown\n",
       "204    Unknown\n",
       "Name: success, Length: 205, dtype: object"
      ]
     },
     "execution_count": 20,
     "metadata": {},
     "output_type": "execute_result"
    }
   ],
   "source": [
    "# Keep True as 1 and False as 0 in success column\n",
    "df['success'] = df['success'].replace({True: 1, False: 0})\n",
    "df['success']"
   ]
  },
  {
   "cell_type": "code",
   "execution_count": 21,
   "id": "159a06c9",
   "metadata": {},
   "outputs": [
    {
     "data": {
      "text/html": [
       "<div>\n",
       "<style scoped>\n",
       "    .dataframe tbody tr th:only-of-type {\n",
       "        vertical-align: middle;\n",
       "    }\n",
       "\n",
       "    .dataframe tbody tr th {\n",
       "        vertical-align: top;\n",
       "    }\n",
       "\n",
       "    .dataframe thead th {\n",
       "        text-align: right;\n",
       "    }\n",
       "</style>\n",
       "<table border=\"1\" class=\"dataframe\">\n",
       "  <thead>\n",
       "    <tr style=\"text-align: right;\">\n",
       "      <th></th>\n",
       "      <th>name</th>\n",
       "      <th>date_utc</th>\n",
       "      <th>success</th>\n",
       "      <th>rocket</th>\n",
       "    </tr>\n",
       "  </thead>\n",
       "  <tbody>\n",
       "    <tr>\n",
       "      <th>0</th>\n",
       "      <td>FalconSat</td>\n",
       "      <td>2006-03-24 22:30:00+00:00</td>\n",
       "      <td>0</td>\n",
       "      <td>5e9d0d95eda69955f709d1eb</td>\n",
       "    </tr>\n",
       "    <tr>\n",
       "      <th>1</th>\n",
       "      <td>DemoSat</td>\n",
       "      <td>2007-03-21 01:10:00+00:00</td>\n",
       "      <td>0</td>\n",
       "      <td>5e9d0d95eda69955f709d1eb</td>\n",
       "    </tr>\n",
       "    <tr>\n",
       "      <th>2</th>\n",
       "      <td>Trailblazer</td>\n",
       "      <td>2008-08-03 03:34:00+00:00</td>\n",
       "      <td>0</td>\n",
       "      <td>5e9d0d95eda69955f709d1eb</td>\n",
       "    </tr>\n",
       "    <tr>\n",
       "      <th>3</th>\n",
       "      <td>RatSat</td>\n",
       "      <td>2008-09-28 23:15:00+00:00</td>\n",
       "      <td>1</td>\n",
       "      <td>5e9d0d95eda69955f709d1eb</td>\n",
       "    </tr>\n",
       "    <tr>\n",
       "      <th>4</th>\n",
       "      <td>RazakSat</td>\n",
       "      <td>2009-07-13 03:35:00+00:00</td>\n",
       "      <td>1</td>\n",
       "      <td>5e9d0d95eda69955f709d1eb</td>\n",
       "    </tr>\n",
       "  </tbody>\n",
       "</table>\n",
       "</div>"
      ],
      "text/plain": [
       "          name                  date_utc success                    rocket\n",
       "0    FalconSat 2006-03-24 22:30:00+00:00       0  5e9d0d95eda69955f709d1eb\n",
       "1      DemoSat 2007-03-21 01:10:00+00:00       0  5e9d0d95eda69955f709d1eb\n",
       "2  Trailblazer 2008-08-03 03:34:00+00:00       0  5e9d0d95eda69955f709d1eb\n",
       "3       RatSat 2008-09-28 23:15:00+00:00       1  5e9d0d95eda69955f709d1eb\n",
       "4     RazakSat 2009-07-13 03:35:00+00:00       1  5e9d0d95eda69955f709d1eb"
      ]
     },
     "execution_count": 21,
     "metadata": {},
     "output_type": "execute_result"
    }
   ],
   "source": [
    "df.head()"
   ]
  },
  {
   "cell_type": "code",
   "execution_count": 23,
   "id": "97483060",
   "metadata": {},
   "outputs": [
    {
     "data": {
      "text/html": [
       "<div>\n",
       "<style scoped>\n",
       "    .dataframe tbody tr th:only-of-type {\n",
       "        vertical-align: middle;\n",
       "    }\n",
       "\n",
       "    .dataframe tbody tr th {\n",
       "        vertical-align: top;\n",
       "    }\n",
       "\n",
       "    .dataframe thead th {\n",
       "        text-align: right;\n",
       "    }\n",
       "</style>\n",
       "<table border=\"1\" class=\"dataframe\">\n",
       "  <thead>\n",
       "    <tr style=\"text-align: right;\">\n",
       "      <th></th>\n",
       "      <th>name</th>\n",
       "      <th>date_utc</th>\n",
       "      <th>success</th>\n",
       "      <th>rocket</th>\n",
       "    </tr>\n",
       "  </thead>\n",
       "  <tbody>\n",
       "    <tr>\n",
       "      <th>0</th>\n",
       "      <td>FalconSat</td>\n",
       "      <td>2006-03-24 22:30:00+00:00</td>\n",
       "      <td>0</td>\n",
       "      <td>5e9d0d95eda69955f709d1eb</td>\n",
       "    </tr>\n",
       "    <tr>\n",
       "      <th>1</th>\n",
       "      <td>DemoSat</td>\n",
       "      <td>2007-03-21 01:10:00+00:00</td>\n",
       "      <td>0</td>\n",
       "      <td>5e9d0d95eda69955f709d1eb</td>\n",
       "    </tr>\n",
       "    <tr>\n",
       "      <th>2</th>\n",
       "      <td>Trailblazer</td>\n",
       "      <td>2008-08-03 03:34:00+00:00</td>\n",
       "      <td>0</td>\n",
       "      <td>5e9d0d95eda69955f709d1eb</td>\n",
       "    </tr>\n",
       "    <tr>\n",
       "      <th>3</th>\n",
       "      <td>RatSat</td>\n",
       "      <td>2008-09-28 23:15:00+00:00</td>\n",
       "      <td>1</td>\n",
       "      <td>5e9d0d95eda69955f709d1eb</td>\n",
       "    </tr>\n",
       "    <tr>\n",
       "      <th>4</th>\n",
       "      <td>RazakSat</td>\n",
       "      <td>2009-07-13 03:35:00+00:00</td>\n",
       "      <td>1</td>\n",
       "      <td>5e9d0d95eda69955f709d1eb</td>\n",
       "    </tr>\n",
       "  </tbody>\n",
       "</table>\n",
       "</div>"
      ],
      "text/plain": [
       "          name                  date_utc success                    rocket\n",
       "0    FalconSat 2006-03-24 22:30:00+00:00       0  5e9d0d95eda69955f709d1eb\n",
       "1      DemoSat 2007-03-21 01:10:00+00:00       0  5e9d0d95eda69955f709d1eb\n",
       "2  Trailblazer 2008-08-03 03:34:00+00:00       0  5e9d0d95eda69955f709d1eb\n",
       "3       RatSat 2008-09-28 23:15:00+00:00       1  5e9d0d95eda69955f709d1eb\n",
       "4     RazakSat 2009-07-13 03:35:00+00:00       1  5e9d0d95eda69955f709d1eb"
      ]
     },
     "execution_count": 23,
     "metadata": {},
     "output_type": "execute_result"
    }
   ],
   "source": [
    "# remove duplicates from name + date_utc\n",
    "df[['name', 'date_utc']] = df[['name', 'date_utc']].drop_duplicates()\n",
    "df.head()"
   ]
  },
  {
   "cell_type": "code",
   "execution_count": 24,
   "id": "22a9e4ad",
   "metadata": {},
   "outputs": [],
   "source": [
    "df.to_csv('clean_launches.csv')"
   ]
  }
 ],
 "metadata": {
  "kernelspec": {
   "display_name": ".venv",
   "language": "python",
   "name": "python3"
  },
  "language_info": {
   "codemirror_mode": {
    "name": "ipython",
    "version": 3
   },
   "file_extension": ".py",
   "mimetype": "text/x-python",
   "name": "python",
   "nbconvert_exporter": "python",
   "pygments_lexer": "ipython3",
   "version": "3.13.7"
  }
 },
 "nbformat": 4,
 "nbformat_minor": 5
}
