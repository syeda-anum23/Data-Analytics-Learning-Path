{
 "cells": [
  {
   "cell_type": "markdown",
   "id": "a7693aa6",
   "metadata": {},
   "source": [
    "### Importing libraries"
   ]
  },
  {
   "cell_type": "code",
   "execution_count": 1,
   "id": "47785c05",
   "metadata": {},
   "outputs": [],
   "source": [
    "import requests\n",
    "import pandas as pd"
   ]
  },
  {
   "cell_type": "markdown",
   "id": "aa81e496",
   "metadata": {},
   "source": [
    "### Fetch data"
   ]
  },
  {
   "cell_type": "code",
   "execution_count": 2,
   "id": "8646cf33",
   "metadata": {},
   "outputs": [
    {
     "name": "stdout",
     "output_type": "stream",
     "text": [
      "Total launches: 205\n",
      "dict_keys(['fairings', 'links', 'static_fire_date_utc', 'static_fire_date_unix', 'net', 'window', 'rocket', 'success', 'failures', 'details', 'crew', 'ships', 'capsules', 'payloads', 'launchpad', 'flight_number', 'name', 'date_utc', 'date_unix', 'date_local', 'date_precision', 'upcoming', 'cores', 'auto_update', 'tbd', 'launch_library_id', 'id'])\n"
     ]
    }
   ],
   "source": [
    "url = \"https://api.spacexdata.com/v4/launches\"\n",
    "res = requests.get(url, timeout=10)\n",
    "res.raise_for_status()\n",
    "data = res.json()   # list of launches\n",
    "\n",
    "print(\"Total launches:\", len(data))\n",
    "print(data[0].keys())  # what fields are available"
   ]
  },
  {
   "cell_type": "markdown",
   "id": "2c0a7654",
   "metadata": {},
   "source": [
    "### Normalize JSON → Table"
   ]
  },
  {
   "cell_type": "code",
   "execution_count": 3,
   "id": "2c99ed16",
   "metadata": {},
   "outputs": [
    {
     "name": "stdout",
     "output_type": "stream",
     "text": [
      "          name                  date_utc success                    rocket\n",
      "0    FalconSat 2006-03-24 22:30:00+00:00   False  5e9d0d95eda69955f709d1eb\n",
      "1      DemoSat 2007-03-21 01:10:00+00:00   False  5e9d0d95eda69955f709d1eb\n",
      "2  Trailblazer 2008-08-03 03:34:00+00:00   False  5e9d0d95eda69955f709d1eb\n",
      "3       RatSat 2008-09-28 23:15:00+00:00    True  5e9d0d95eda69955f709d1eb\n",
      "4     RazakSat 2009-07-13 03:35:00+00:00    True  5e9d0d95eda69955f709d1eb\n"
     ]
    }
   ],
   "source": [
    "df = pd.json_normalize(data)\n",
    "cols = [\"name\", \"date_utc\", \"success\", \"rocket\"]\n",
    "df = df[cols]\n",
    "\n",
    "df[\"date_utc\"] = pd.to_datetime(df[\"date_utc\"], errors=\"coerce\")\n",
    "\n",
    "print(df.head())\n",
    "df.to_csv(\"launches.csv\", index=False)\n"
   ]
  }
 ],
 "metadata": {
  "kernelspec": {
   "display_name": ".venv",
   "language": "python",
   "name": "python3"
  },
  "language_info": {
   "codemirror_mode": {
    "name": "ipython",
    "version": 3
   },
   "file_extension": ".py",
   "mimetype": "text/x-python",
   "name": "python",
   "nbconvert_exporter": "python",
   "pygments_lexer": "ipython3",
   "version": "3.13.7"
  }
 },
 "nbformat": 4,
 "nbformat_minor": 5
}
